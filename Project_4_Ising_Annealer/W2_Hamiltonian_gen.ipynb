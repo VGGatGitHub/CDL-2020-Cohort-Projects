{
 "cells": [
  {
   "cell_type": "markdown",
   "metadata": {},
   "source": [
    "# Quantum Circuits\n",
    "Quantum computers can only use a specific set of gates (universal gate set). Given the entanglers and their amplitudes found in Step 3, one can find corresponding representation of these operators in terms of elementary gates using the following procedure."
   ]
  },
  {
   "cell_type": "code",
   "execution_count": 14,
   "metadata": {},
   "outputs": [],
   "source": [
    "import tequila as tq\n",
    "from utility import *\n",
    "import time"
   ]
  },
  {
   "cell_type": "code",
   "execution_count": 15,
   "metadata": {},
   "outputs": [],
   "source": [
    "#Focus on one molecule\n",
    "molecules=['h2']\n",
    "methods=['cisd']\n",
    "basies=['sto-3g']\n",
    "qubit_transfms=['bk'] "
   ]
  },
  {
   "cell_type": "code",
   "execution_count": 16,
   "metadata": {},
   "outputs": [
    {
     "name": "stdout",
     "output_type": "stream",
     "text": [
      "Take a look at H!\n",
      "E = -1.129904784381681 Eh\n",
      "CISD  ground state energy is: [-1.12990478]\n",
      "Numbers of electrons: 2 \n",
      "Using  BK  in  STO-3G basis. \n",
      "Number of spin-orbitals (qubits): 4 \n",
      "Number of Hamiltonian terms: 15\n",
      "Number of terms in Taper effective Hamiltonian (H_eff): 3\n",
      "The eigenvalues of the effective Hamiltonian:[-1.10115031  0.03904763]\n",
      "H2 Hamiltonian using  BK  in basis: STO-3G generated for: 1.5354807376861572  sec\n",
      "\n"
     ]
    }
   ],
   "source": [
    "R=0.65 #bond_length\n",
    "\n",
    "for mol in molecules:\n",
    "\n",
    "    for basis in basies:\n",
    "\n",
    "        for qubit_transf in qubit_transfms:\n",
    "                    \n",
    "            start=time.time()\n",
    "            \n",
    "            H = get_qubit_hamiltonian(mol, geometry=R, basis=basis, multiplicity=3, qubit_transf=qubit_transf)\n",
    "            print(\"Take a look at H!\")\n",
    "            \n",
    "            xyz_data = get_molecular_data(mol, geometry=R, xyz_format=True)\n",
    "            Htq = tq.quantumchemistry.Molecule(geometry=xyz_data, basis_set=basis)\n",
    "\n",
    "            E_cisd=obtain_PES(mol, [R], basis, 'cisd')\n",
    "            print('cisd'.upper(),\" ground state energy is:\",E_cisd)\n",
    "            \n",
    "            n_spin_orbitals=2*Htq.n_orbitals\n",
    "            n_electrons=Htq.n_electrons\n",
    "            print(\"Numbers of electrons:\",n_electrons,\n",
    "                  \"\\nUsing \",qubit_transf.upper(),\" in \",basis.upper(),\"basis.\",\n",
    "                  \"\\nNumber of spin-orbitals (qubits):\",n_spin_orbitals,\n",
    "                  \"\\nNumber of Hamiltonian terms:\",len(H.terms)) \n",
    "\n",
    "            H_eff=taper_hamiltonian(H, n_spin_orbitals, n_electrons, qubit_transf)\n",
    "            print(\"Number of terms in Taper effective Hamiltonian (H_eff):\",len(H_eff.terms))\n",
    "\n",
    "            \n",
    "            if mol=='h2':\n",
    "                # Building the matrix representation of the effective Hamiltonian\n",
    "                I, X, Z = np.identity(2), np.array([[0, 1], [1, 0]]), np.array([[1, 0], [0, -1]])\n",
    "                H_matrix = -0.53105134 * I + 0.19679058 * X - 0.53505729 * Z\n",
    "\n",
    "                # Obtain the eigenvalues\n",
    "                eigvals, _ = np.linalg.eigh(H_matrix)\n",
    "                print(\"The eigenvalues of the effective Hamiltonian:{}\".format(eigvals))\n",
    "            else:\n",
    "                print(\"H_matrix for qubit-tapering technique not yet implemeneted for \",mol.upper())\n",
    "\n",
    "            print(mol.upper(),\"Hamiltonian using \",qubit_transf.upper(),\" in basis:\",\n",
    "                  basis.upper(),\"generated for:\",time.time()-start,\" sec\\n\")\n",
    "            \n",
    "            "
   ]
  },
  {
   "cell_type": "code",
   "execution_count": 17,
   "metadata": {},
   "outputs": [
    {
     "name": "stdout",
     "output_type": "stream",
     "text": [
      "Fragments 1: \n",
      "0.03775110394645728 [] +\n",
      "0.04407961290255181 [Y0 Z1 Y2] +\n",
      "0.04407961290255181 [Y0 Z1 Y2 Z3] +\n",
      "0.17297610130745106 [Z1] +\n",
      "0.17866777775953419 [Z1 Z3]\n",
      "\n",
      "Fragments 2:\n",
      "0.04407961290255181 [X0 Z1 X2] +\n",
      "0.04407961290255181 [X0 Z1 X2 Z3]\n",
      "\n",
      "Number of fragments: 3\n"
     ]
    }
   ],
   "source": [
    "qwc_list = get_qwc_group(H)\n",
    "print('Fragments 1: \\n{}\\n'.format(qwc_list[0]))\n",
    "print('Fragments 2:\\n{}\\n'.format(qwc_list[1]))\n",
    "print('Number of fragments: {}'.format(len(qwc_list)))"
   ]
  },
  {
   "cell_type": "code",
   "execution_count": 18,
   "metadata": {},
   "outputs": [
    {
     "name": "stdout",
     "output_type": "stream",
     "text": [
      "Number of mutually commuting fragments: 2\n",
      "The first commuting group\n",
      "0.03775110394645728 [] +\n",
      "0.04407961290255181 [X0 Z1 X2] +\n",
      "0.04407961290255181 [X0 Z1 X2 Z3] +\n",
      "0.04407961290255181 [Y0 Z1 Y2] +\n",
      "0.04407961290255181 [Y0 Z1 Y2 Z3] +\n",
      "0.16992097848261525 [Z0 Z1 Z2] +\n",
      "0.16992097848261525 [Z0 Z1 Z2 Z3] +\n",
      "0.12584136558006345 [Z0 Z2] +\n",
      "0.12584136558006345 [Z0 Z2 Z3] +\n",
      "0.17297610130745106 [Z1] +\n",
      "0.17866777775953419 [Z1 Z3]\n",
      "0.1860164888623057 [Z0] +\n",
      "0.1860164888623056 [Z0 Z1] +\n",
      "-0.26941693141632106 [Z1 Z2 Z3] +\n",
      "-0.26941693141632117 [Z2]\n"
     ]
    }
   ],
   "source": [
    "comm_groups = get_commuting_group(H)\n",
    "print('Number of mutually commuting fragments: {}'.format(len(comm_groups)))\n",
    "print('The first commuting group')\n",
    "print(comm_groups[1])\n",
    "print(comm_groups[2])"
   ]
  },
  {
   "cell_type": "code",
   "execution_count": 22,
   "metadata": {
    "scrolled": true
   },
   "outputs": [
    {
     "name": "stdout",
     "output_type": "stream",
     "text": [
      "Checking whether U * U^+ is identity: 0.9999999999999998 []\n",
      "\n",
      "The all-z form of qwc fragment:\n",
      "0.03775110394645723 [] +\n",
      "0.1258413655800633 [Z0] +\n",
      "0.16992097848261511 [Z0 Z1] +\n",
      "-0.044079612902551774 [Z0 Z1 Z2] +\n",
      "-0.044079612902551774 [Z0 Z1 Z2 Z3] +\n",
      "0.16992097848261511 [Z0 Z1 Z3] +\n",
      "0.1258413655800633 [Z0 Z3] +\n",
      "0.1729761013074509 [Z1] +\n",
      "0.044079612902551774 [Z1 Z2] +\n",
      "0.044079612902551774 [Z1 Z2 Z3] +\n",
      "0.17866777775953396 [Z1 Z3]\n",
      "Checking whether U * U^+ is identity: 0.9999999999999996 []\n",
      "\n",
      "The all-z form of qwc fragment:\n",
      "0.18601648886230557 [Z0] +\n",
      "0.1860164888623054 [Z0 Z1] +\n",
      "-0.26941693141632056 [Z1 Z2 Z3] +\n",
      "-0.2694169314163207 [Z2]\n",
      "CPU times: user 118 ms, sys: 0 ns, total: 118 ms\n",
      "Wall time: 116 ms\n"
     ]
    }
   ],
   "source": [
    "%%time\n",
    "#One has to loop over all groups\n",
    "\n",
    "allz_list = []  # store the allz from all iterations\n",
    "for i in range(1,len(comm_groups)+1):\n",
    "    uqwc = get_qwc_unitary(comm_groups[i])\n",
    "    qwc = remove_complex(uqwc * comm_groups[i] * uqwc)\n",
    "\n",
    "    uz = get_zform_unitary(qwc)\n",
    "    print(\"Checking whether U * U^+ is identity: {}\".format(uz * uz))\n",
    "\n",
    "    allz = remove_complex(uz * qwc * uz)\n",
    "    allz_list.append(allz)\n",
    "    print(\"\\nThe all-z form of qwc fragment:\\n{}\".format(allz))"
   ]
  },
  {
   "cell_type": "markdown",
   "metadata": {},
   "source": [
    "Save the info in allz_list into the file `./hamiltonians/test.inp`, which has the same format as all the other files in that directoy."
   ]
  },
  {
   "cell_type": "code",
   "execution_count": 68,
   "metadata": {},
   "outputs": [],
   "source": [
    "n = allz_list[0].many_body_order() # 4\n",
    "\n",
    "output = {}\n",
    "for allz in allz_list:\n",
    "    for k,v in allz.terms.items():\n",
    "        key = ['e'] * n\n",
    "        for spin in k:\n",
    "            key[n-1-spin[0]] = 'z'\n",
    "        key_str = ''.join(key)\n",
    "        output[key_str] = output.get(key_str, 0) + v\n",
    "        \n",
    "with open('./hamiltonians/test.inp', 'w') as fh:\n",
    "    fh.write(\"4 13 real\\n\")\n",
    "    for k,v in output.items():\n",
    "        fh.write(k + ' ' + str(v) + '\\n')"
   ]
  },
  {
   "cell_type": "markdown",
   "metadata": {},
   "source": [
    "Temporarily copy here some definitions from task 3 for quick testing"
   ]
  },
  {
   "cell_type": "code",
   "execution_count": 74,
   "metadata": {},
   "outputs": [],
   "source": [
    "import numpy as np\n",
    "import matplotlib.pyplot as plt\n",
    "from common.abstract_ising import AbstractIsing\n",
    "from common.ising_animator import IsingAnimator\n",
    "from common.utils import *\n",
    "\n",
    "def read_generalized_ising_hamiltonian(path):\n",
    "    with open(path, \"r\") as f:\n",
    "        f.readline()  # discard first line\n",
    "        compressed_hamiltonian = [\n",
    "            tuple(line.strip().split())\n",
    "            for line in f.readlines()\n",
    "        ]\n",
    "    \n",
    "    num_sites = len(compressed_hamiltonian[0][0])\n",
    "    hamiltonian_terms = [np.zeros((num_sites,)*i) for i in range(num_sites+1)]\n",
    "\n",
    "    for sites, val in compressed_hamiltonian:\n",
    "        num_zs = 0\n",
    "        site_nums = []\n",
    "        for i, x in enumerate(sites):\n",
    "            if x == 'z':\n",
    "                site_nums.append(i)\n",
    "                num_zs += 1\n",
    "\n",
    "        hamiltonian_terms[num_zs][tuple(site_nums)] = float(val)\n",
    "\n",
    "    return hamiltonian_terms\n",
    "\n",
    "\n",
    "class GeneralizedIsingModel(AbstractIsing):\n",
    "    def __init__(self, E0, h, J, K, L):\n",
    "        self.E0 = E0[()]\n",
    "        self.h = h\n",
    "        self.J = J\n",
    "        self.K = K\n",
    "        self.L = L\n",
    "        \n",
    "        self.num_spins = h.shape[0]\n",
    "        \n",
    "        # initialize the spins randomly\n",
    "        self.spins = 2 * (np.random.rand(self.num_spins) < 0.5) - 1\n",
    "    \n",
    "    def energy(self, spins=None):\n",
    "        \"\"\"\n",
    "        Args:\n",
    "            spins: a single spin configuration, or a list of spin configurations\n",
    "            \n",
    "        Returns:\n",
    "            Energies corresponding to the given spin configurations\n",
    "        \"\"\"\n",
    "        if spins is None:\n",
    "            spins = self.spins\n",
    "            \n",
    "        if len(spins.shape) == 1:\n",
    "            spins = spins[None, :]\n",
    "        \n",
    "        energy = self.E0 * np.ones(spins.shape[0])\n",
    "        energy += np.einsum('i,bi->b', self.h, spins)\n",
    "        energy += np.einsum('ij,bi,bj->b', self.J, spins, spins)\n",
    "        energy += np.einsum('ijk,bi,bj,bk->b', self.K, spins, spins, spins)\n",
    "        energy += np.einsum('ijkl,bi,bj,bk,bl->b', self.L, spins, spins, spins, spins)\n",
    "        \n",
    "        return energy\n",
    "    \n",
    "    def energy_diff(self, i):\n",
    "        dE = 0\n",
    "        for coef in [self.h, self.J, self.K, self.L]:\n",
    "            tmp = 0\n",
    "            for j in range(len(coef.shape)):\n",
    "                tmp += np.moveaxis(coef, j, 0)[i]\n",
    "            for _ in range(len(coef.shape) - 1):\n",
    "                tmp = tmp.dot(self.spins)\n",
    "            dE += tmp     \n",
    "        dE *= -2 * self.spins[i] \n",
    "        \n",
    "        return dE\n",
    "        \n",
    "    \n",
    "    def rand_site(self):\n",
    "        return (np.random.randint(self.num_spins),)\n",
    "    \n",
    "    def all_configurations(self):\n",
    "        \"\"\"Returns all possible spin configurations\"\"\"\n",
    "        dim = np.arange(2 ** ising.num_spins)\n",
    "        space = ((dim[:, None] & (1 << np.arange(ising.num_spins))) > 0)\n",
    "        space = 2*space.astype(int) - 1\n",
    "        return space"
   ]
  },
  {
   "cell_type": "markdown",
   "metadata": {},
   "source": [
    "Determine the minimum energy for the hamiltonian based on the file we have just created."
   ]
  },
  {
   "cell_type": "code",
   "execution_count": 75,
   "metadata": {},
   "outputs": [
    {
     "data": {
      "text/plain": [
       "-0.93667809405896"
      ]
     },
     "execution_count": 75,
     "metadata": {},
     "output_type": "execute_result"
    }
   ],
   "source": [
    "E0, h, J, K, L = read_generalized_ising_hamiltonian(\"./hamiltonians/test.inp\")\n",
    "ising = GeneralizedIsingModel(E0, h, J, K, L)\n",
    "ising.energy(ising.all_configurations()).min()"
   ]
  },
  {
   "cell_type": "markdown",
   "metadata": {},
   "source": [
    "The correct result for R=0.65 should be -1.1299047752322906"
   ]
  },
  {
   "cell_type": "code",
   "execution_count": null,
   "metadata": {},
   "outputs": [],
   "source": [
    "# R(A)         E(Ha)\n",
    "0.65      -1.1299047752322906\n",
    "0.8      -1.1341476722233872\n",
    "0.95      -1.1113394317141152\n",
    "1.1      -1.0791929635915072\n",
    "1.25      -1.0457831649744007\n",
    "1.4      -1.0154682691531118\n",
    "1.55      -0.9904763585526108\n",
    "1.7      -0.9714267029717627\n",
    "1.85      -0.9578329791835556\n",
    "2.0      -0.9486411206967024\n",
    "2.15      -0.9426777920320297\n",
    "2.3      -0.9389223907402545\n",
    "2.45      -0.9366052600789352\n",
    "2.6      -0.9351960337828166\n",
    "2.75      -0.9343489902069892\n",
    "2.9      -0.9338457529323188\n",
    "3.05      -0.9335506069059256\n",
    "3.2      -0.933379979185252\n",
    "3.35      -0.9332828445659485\n",
    "3.5      -0.9332284072659003"
   ]
  },
  {
   "cell_type": "code",
   "execution_count": null,
   "metadata": {},
   "outputs": [],
   "source": []
  }
 ],
 "metadata": {
  "kernelspec": {
   "display_name": "Python 3",
   "language": "python",
   "name": "python3"
  },
  "language_info": {
   "codemirror_mode": {
    "name": "ipython",
    "version": 3
   },
   "file_extension": ".py",
   "mimetype": "text/x-python",
   "name": "python",
   "nbconvert_exporter": "python",
   "pygments_lexer": "ipython3",
   "version": "3.6.10"
  }
 },
 "nbformat": 4,
 "nbformat_minor": 2
}
