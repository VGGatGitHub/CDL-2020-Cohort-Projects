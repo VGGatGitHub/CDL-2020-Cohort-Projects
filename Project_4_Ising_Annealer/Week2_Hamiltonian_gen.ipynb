{
 "cells": [
  {
   "cell_type": "markdown",
   "metadata": {},
   "source": [
    "# Quantum Circuits\n",
    "Quantum computers can only use a specific set of gates (universal gate set). Given the entanglers and their amplitudes found in Step 3, one can find corresponding representation of these operators in terms of elementary gates using the following procedure."
   ]
  },
  {
   "cell_type": "code",
   "execution_count": 1,
   "metadata": {},
   "outputs": [],
   "source": [
    "\n",
    "import tequila as tq\n",
    "from utility import * #you will need this utility.py from week2\n",
    "import time"
   ]
  },
  {
   "cell_type": "code",
   "execution_count": 2,
   "metadata": {},
   "outputs": [],
   "source": [
    "#Running with cell goes over all possible optinons  \n",
    "molecules=['h2','h4','lih','h2o','n2','nh3']\n",
    "methods=['hf','cisd','ccsd','fci']\n",
    "basies=['sto-3g','6-31g']\n",
    "qubit_transfms=['jw','bk'] "
   ]
  },
  {
   "cell_type": "code",
   "execution_count": 3,
   "metadata": {},
   "outputs": [],
   "source": [
    "#Fcus on one molecule\n",
    "molecules=['h2']\n",
    "methods=['cisd']\n",
    "basies=['sto-3g']\n",
    "qubit_transfms=['jw'] #Jrdan-Wigner transformation is better"
   ]
  },
  {
   "cell_type": "code",
   "execution_count": 4,
   "metadata": {},
   "outputs": [
    {
     "name": "stdout",
     "output_type": "stream",
     "text": [
      "Take a look at H!\n",
      "r=0.8000, E =  -1.13415 Eh\n",
      "CISD  ground state energy is: [-1.13414767]\n",
      "Numbers of electrons: 2 \n",
      "Using  JW  in  STO-3G basis. \n",
      "Number of spin-orbitals (qubits): 4 \n",
      "Number of Hamiltonian terms: 15\n",
      "Number of terms in Taper effective Hamiltonian (H_eff): 3\n",
      "The eigenvalues of the effective Hamiltonian:[-1.10115031  0.03904763]\n",
      "H2 Hamiltonian using  JW  in basis: STO-3G generated for: 1.4550960063934326  sec\n",
      "\n"
     ]
    }
   ],
   "source": [
    "R=0.8 #bond_length\n",
    "\n",
    "for mol in molecules:\n",
    "\n",
    "    for basis in basies:\n",
    "\n",
    "        for qubit_transf in qubit_transfms:\n",
    "                    \n",
    "            start=time.time()\n",
    "            \n",
    "            H = get_qubit_hamiltonian(mol, geometry=R, basis=basis, qubit_transf=qubit_transf)\n",
    "            print(\"Take a look at H!\")\n",
    "            \n",
    "            xyz_data = get_molecular_data(mol, geometry=R, xyz_format=True)\n",
    "            Htq = tq.quantumchemistry.Molecule(geometry=xyz_data, basis_set=basis)\n",
    "\n",
    "            E_cisd=obtain_PES(mol, [R], basis, 'cisd')\n",
    "            print('cisd'.upper(),\" ground state energy is:\",E_cisd)\n",
    "            \n",
    "            n_spin_orbitals=2*Htq.n_orbitals\n",
    "            n_electrons=Htq.n_electrons\n",
    "            print(\"Numbers of electrons:\",n_electrons,\n",
    "                  \"\\nUsing \",qubit_transf.upper(),\" in \",basis.upper(),\"basis.\",\n",
    "                  \"\\nNumber of spin-orbitals (qubits):\",n_spin_orbitals,\n",
    "                  \"\\nNumber of Hamiltonian terms:\",len(H.terms)) \n",
    "\n",
    "            H_eff=taper_hamiltonian(H, n_spin_orbitals, n_electrons, qubit_transf)\n",
    "            print(\"Number of terms in Taper effective Hamiltonian (H_eff):\",len(H_eff.terms))\n",
    "\n",
    "            \n",
    "            if mol=='h2':\n",
    "                # Building the matrix representation of the effective Hamiltonian\n",
    "                I, X, Z = np.identity(2), np.array([[0, 1], [1, 0]]), np.array([[1, 0], [0, -1]])\n",
    "                H_matrix = -0.53105134 * I + 0.19679058 * X - 0.53505729 * Z\n",
    "\n",
    "                # Obtain the eigenvalues\n",
    "                eigvals, _ = np.linalg.eigh(H_matrix)\n",
    "                print(\"The eigenvalues of the effective Hamiltonian:{}\".format(eigvals))\n",
    "            else:\n",
    "                print(\"H_matrix for qubit-tapering technique not yet implemeneted for \",mol.upper())\n",
    "\n",
    "            print(mol.upper(),\"Hamiltonian using \",qubit_transf.upper(),\" in basis:\",\n",
    "                  basis.upper(),\"generated for:\",time.time()-start,\" sec\\n\")\n",
    "            \n",
    "            "
   ]
  },
  {
   "cell_type": "code",
   "execution_count": 5,
   "metadata": {},
   "outputs": [
    {
     "data": {
      "text/plain": [
       "-0.16733398905695201 [] +\n",
       "-0.04615669588901533 [X0 X1 Y2 Y3] +\n",
       "0.04615669588901533 [X0 Y1 Y2 X3] +\n",
       "0.04615669588901533 [Y0 X1 X2 Y3] +\n",
       "-0.04615669588901533 [Y0 Y1 X2 X3] +\n",
       "0.16251648748871636 [Z0] +\n",
       "0.16583253721590413 [Z0 Z1] +\n",
       "0.11720364720195853 [Z0 Z2] +\n",
       "0.16336034309097386 [Z0 Z3] +\n",
       "0.16251648748871636 [Z1] +\n",
       "0.16336034309097386 [Z1 Z2] +\n",
       "0.11720364720195853 [Z1 Z3] +\n",
       "-0.19744293699755833 [Z2] +\n",
       "0.1716978839228672 [Z2 Z3] +\n",
       "-0.19744293699755827 [Z3]"
      ]
     },
     "execution_count": 5,
     "metadata": {},
     "output_type": "execute_result"
    }
   ],
   "source": [
    "H"
   ]
  },
  {
   "cell_type": "code",
   "execution_count": 6,
   "metadata": {},
   "outputs": [
    {
     "data": {
      "text/plain": [
       "-0.39093154850404543 [] +\n",
       "0.18462678355606132 [X0] +\n",
       "-0.7199188489725494 [Z0]"
      ]
     },
     "execution_count": 6,
     "metadata": {},
     "output_type": "execute_result"
    }
   ],
   "source": [
    "H_eff"
   ]
  },
  {
   "cell_type": "code",
   "execution_count": 7,
   "metadata": {},
   "outputs": [
    {
     "name": "stdout",
     "output_type": "stream",
     "text": [
      "Fragments 1: \n",
      "-0.16733398905695201 [] +\n",
      "0.04615669588901533 [X0 Y1 Y2 X3]\n",
      "\n",
      "Fragments 2:\n",
      "-0.04615669588901533 [X0 X1 Y2 Y3]\n",
      "\n",
      "Number of fragments: 5\n"
     ]
    }
   ],
   "source": [
    "qwc_list = get_qwc_group(H)\n",
    "print('Fragments 1: \\n{}\\n'.format(qwc_list[0]))\n",
    "print('Fragments 2:\\n{}\\n'.format(qwc_list[1]))\n",
    "print('Number of fragments: {}'.format(len(qwc_list)))"
   ]
  },
  {
   "cell_type": "code",
   "execution_count": 8,
   "metadata": {},
   "outputs": [
    {
     "name": "stdout",
     "output_type": "stream",
     "text": [
      "Number of mutually commuting fragments: 2\n",
      "The first commuting group\n",
      "-0.16733398905695201 [] +\n",
      "-0.04615669588901533 [X0 X1 Y2 Y3] +\n",
      "0.04615669588901533 [X0 Y1 Y2 X3] +\n",
      "0.04615669588901533 [Y0 X1 X2 Y3] +\n",
      "-0.04615669588901533 [Y0 Y1 X2 X3] +\n",
      "0.16583253721590413 [Z0 Z1] +\n",
      "0.11720364720195853 [Z0 Z2] +\n",
      "0.16336034309097386 [Z0 Z3] +\n",
      "0.16336034309097386 [Z1 Z2] +\n",
      "0.11720364720195853 [Z1 Z3] +\n",
      "0.1716978839228672 [Z2 Z3]\n",
      "0.16251648748871636 [Z0] +\n",
      "0.16251648748871636 [Z1] +\n",
      "-0.19744293699755833 [Z2] +\n",
      "-0.19744293699755827 [Z3]\n"
     ]
    }
   ],
   "source": [
    "comm_groups = get_commuting_group(H)\n",
    "print('Number of mutually commuting fragments: {}'.format(len(comm_groups)))\n",
    "print('The first commuting group')\n",
    "print(comm_groups[1])\n",
    "print(comm_groups[2])"
   ]
  },
  {
   "cell_type": "code",
   "execution_count": 9,
   "metadata": {},
   "outputs": [],
   "source": [
    "def imp_form4(allz):\n",
    "    new_form={}\n",
    "    for keys in allz.terms:\n",
    "        eeee=list('eeee')\n",
    "        for key in keys:\n",
    "            eeee[key[0]]=\"z\"\n",
    "        new_form[\"\".join(eeee)]=allz.terms[keys]\n",
    "    return new_form "
   ]
  },
  {
   "cell_type": "code",
   "execution_count": 10,
   "metadata": {},
   "outputs": [],
   "source": [
    "def imp_form(allz,n_qubits): #n_spin_orbitals\n",
    "    new_form={}\n",
    "    for keys in allz.terms:\n",
    "        eeee=['e' for i in range(n_qubits)]\n",
    "        for key in keys:\n",
    "            eeee[key[0]]=\"z\"\n",
    "        new_form[\"\".join(eeee)]=allz.terms[keys]\n",
    "    return new_form "
   ]
  },
  {
   "cell_type": "code",
   "execution_count": 11,
   "metadata": {},
   "outputs": [
    {
     "name": "stdout",
     "output_type": "stream",
     "text": [
      "Checking whether U * U^+ is identity: 0.9999999999999998 []\n",
      "\n",
      "The all-z form of qwc fragment:\n",
      "-0.16733398905695185 [] +\n",
      "0.1633603430909737 [Z0] +\n",
      "0.16583253721590394 [Z0 Z1] +\n",
      "0.04615669588901527 [Z0 Z1 Z3] +\n",
      "0.11720364720195839 [Z0 Z2] +\n",
      "-0.04615669588901527 [Z0 Z3] +\n",
      "0.11720364720195839 [Z1] +\n",
      "0.1633603430909737 [Z1 Z2] +\n",
      "-0.04615669588901527 [Z1 Z2 Z3] +\n",
      "0.17169788392286692 [Z2] +\n",
      "0.04615669588901527 [Z2 Z3]\n",
      "Checking whether U * U^+ is identity: 0.9999999999999996 []\n",
      "\n",
      "The all-z form of qwc fragment:\n",
      "0.16251648748871614 [Z0] +\n",
      "0.16251648748871614 [Z1] +\n",
      "-0.1974429369975582 [Z2] +\n",
      "-0.19744293699755802 [Z3]\n",
      "CPU times: user 53.1 ms, sys: 90 µs, total: 53.2 ms\n",
      "Wall time: 52.2 ms\n"
     ]
    }
   ],
   "source": [
    "%%time\n",
    "#One has to loop over all groups\n",
    "\n",
    "new_form=[]\n",
    "for i in range(1,len(comm_groups)+1):\n",
    "    uqwc = get_qwc_unitary(comm_groups[i])\n",
    "    qwc = remove_complex(uqwc * comm_groups[i] * uqwc)\n",
    "\n",
    "    uz = get_zform_unitary(qwc)\n",
    "    print(\"Checking whether U * U^+ is identity: {}\".format(uz * uz))\n",
    "\n",
    "    allz = remove_complex(uz * qwc * uz)\n",
    "    print(\"\\nThe all-z form of qwc fragment:\\n{}\".format(allz))\n",
    "    new_form.append(imp_form(allz,n_spin_orbitals))"
   ]
  },
  {
   "cell_type": "code",
   "execution_count": 12,
   "metadata": {},
   "outputs": [
    {
     "data": {
      "text/plain": [
       "[{'ezzz': -0.04615669588901527,\n",
       "  'eezz': 0.04615669588901527,\n",
       "  'zzez': 0.04615669588901527,\n",
       "  'zeez': -0.04615669588901527,\n",
       "  'eeze': 0.17169788392286692,\n",
       "  'ezee': 0.11720364720195839,\n",
       "  'ezze': 0.1633603430909737,\n",
       "  'zeee': 0.1633603430909737,\n",
       "  'zeze': 0.11720364720195839,\n",
       "  'zzee': 0.16583253721590394,\n",
       "  'eeee': -0.16733398905695185},\n",
       " {'eeez': -0.19744293699755802,\n",
       "  'eeze': -0.1974429369975582,\n",
       "  'ezee': 0.16251648748871614,\n",
       "  'zeee': 0.16251648748871614}]"
      ]
     },
     "execution_count": 12,
     "metadata": {},
     "output_type": "execute_result"
    }
   ],
   "source": [
    "new_form"
   ]
  },
  {
   "cell_type": "code",
   "execution_count": 13,
   "metadata": {},
   "outputs": [
    {
     "name": "stdout",
     "output_type": "stream",
     "text": [
      "4 11 real\n",
      "ezzz -0.04615669588901527\n",
      "eezz 0.04615669588901527\n",
      "zzez 0.04615669588901527\n",
      "zeez -0.04615669588901527\n",
      "eeze 0.17169788392286692\n",
      "ezee 0.11720364720195839\n",
      "ezze 0.1633603430909737\n",
      "zeee 0.1633603430909737\n",
      "zeze 0.11720364720195839\n",
      "zzee 0.16583253721590394\n",
      "eeee -0.16733398905695185\n",
      "4 4 real\n",
      "eeez -0.19744293699755802\n",
      "eeze -0.1974429369975582\n",
      "ezee 0.16251648748871614\n",
      "zeee 0.16251648748871614\n",
      "\n",
      "4 12 real R= 0.8 E[Eh]= -1.1341476666428472  Use the lines below only!\n",
      "ezzz -0.04615669588901527\n",
      "eezz 0.04615669588901527\n",
      "zzez 0.04615669588901527\n",
      "zeez -0.04615669588901527\n",
      "eeze -0.02574505307469127\n",
      "ezee 0.2797201346906745\n",
      "ezze 0.1633603430909737\n",
      "zeee 0.32587683057968986\n",
      "zeze 0.11720364720195839\n",
      "zzee 0.16583253721590394\n",
      "eeee -0.16733398905695185\n",
      "eeez -0.19744293699755802\n"
     ]
    }
   ],
   "source": [
    "n_lements=0\n",
    "all_togeter={}\n",
    "for group in new_form:\n",
    "    print(4,len(group),'real')\n",
    "    for elemet in group:\n",
    "        print(elemet,group[elemet])\n",
    "        if elemet in all_togeter:\n",
    "            temp=all_togeter[elemet]\n",
    "            temp+=group[elemet]\n",
    "            all_togeter[elemet]=temp\n",
    "        else:\n",
    "            n_lements+=1\n",
    "            temp=group[elemet]\n",
    "            all_togeter[elemet]=temp\n",
    "\n",
    "print()        \n",
    "print(n_spin_orbitals,n_lements,'real',\"R=\",R,\"E[Eh]=\",E_cisd[0],\" Use the lines below only!\")\n",
    "for key in all_togeter:\n",
    "    print(key,all_togeter[key])"
   ]
  },
  {
   "cell_type": "code",
   "execution_count": 14,
   "metadata": {},
   "outputs": [
    {
     "data": {
      "text/plain": [
       "-0.22785180379199269"
      ]
     },
     "execution_count": 14,
     "metadata": {},
     "output_type": "execute_result"
    }
   ],
   "source": [
    "-0.3796856633927857+0.15183385960079301"
   ]
  },
  {
   "cell_type": "code",
   "execution_count": 15,
   "metadata": {},
   "outputs": [
    {
     "data": {
      "text/plain": [
       "{'terms': {((3, 'Z'),): -0.19744293699755802,\n",
       "  ((2, 'Z'),): -0.1974429369975582,\n",
       "  ((1, 'Z'),): 0.16251648748871614,\n",
       "  ((0, 'Z'),): 0.16251648748871614}}"
      ]
     },
     "execution_count": 15,
     "metadata": {},
     "output_type": "execute_result"
    }
   ],
   "source": [
    "allz.__dict__"
   ]
  },
  {
   "cell_type": "code",
   "execution_count": 16,
   "metadata": {},
   "outputs": [
    {
     "data": {
      "text/plain": [
       "{'eeez': -0.19744293699755802,\n",
       " 'eeze': -0.1974429369975582,\n",
       " 'ezee': 0.16251648748871614,\n",
       " 'zeee': 0.16251648748871614}"
      ]
     },
     "execution_count": 16,
     "metadata": {},
     "output_type": "execute_result"
    }
   ],
   "source": [
    "imp_form(allz,n_spin_orbitals)"
   ]
  },
  {
   "cell_type": "code",
   "execution_count": 17,
   "metadata": {},
   "outputs": [
    {
     "data": {
      "text/plain": [
       "-1.0661086493179361"
      ]
     },
     "execution_count": 17,
     "metadata": {},
     "output_type": "execute_result"
    }
   ],
   "source": [
    "#This is E0 at R=1 for h2 using H_eff\n",
    "-0.531051349433764-0.5350572998841723"
   ]
  },
  {
   "cell_type": "code",
   "execution_count": null,
   "metadata": {},
   "outputs": [],
   "source": []
  }
 ],
 "metadata": {
  "kernelspec": {
   "display_name": "Python 3",
   "language": "python",
   "name": "python3"
  },
  "language_info": {
   "codemirror_mode": {
    "name": "ipython",
    "version": 3
   },
   "file_extension": ".py",
   "mimetype": "text/x-python",
   "name": "python",
   "nbconvert_exporter": "python",
   "pygments_lexer": "ipython3",
   "version": "3.7.1"
  }
 },
 "nbformat": 4,
 "nbformat_minor": 2
}
